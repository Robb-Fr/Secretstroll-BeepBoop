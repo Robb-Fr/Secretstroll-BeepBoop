{
 "cells": [
  {
   "cell_type": "markdown",
   "metadata": {},
   "source": [
    "# Data extraction from trace\n",
    "This notebook aims to take the `.pcap` files generated from the trace and use those to create a csv file that contains the features and labels to input to our classifier."
   ]
  },
  {
   "cell_type": "code",
   "execution_count": 18,
   "metadata": {},
   "outputs": [],
   "source": [
    "import scapy\n",
    "import pandas as pd\n",
    "import os\n",
    "from typing import List, Tuple"
   ]
  },
  {
   "cell_type": "code",
   "execution_count": 19,
   "metadata": {},
   "outputs": [],
   "source": [
    "\"\"\"\n",
    "represents a packet by its:\n",
    "- IN/OUT nature (IN == to client == 1) (OUT == to server == 0)\n",
    "- timestamp\n",
    "- length\n",
    "\"\"\"\n",
    "Packet = Tuple[int, float, int]\n"
   ]
  },
  {
   "cell_type": "markdown",
   "metadata": {},
   "source": [
    "## Client-Server interaction\n",
    "We first recall the implementation of client server interaction. Indeed, this one is described in `handout_project_secretstroll.pdf`. Taking a look at implementation of `server.py` and `client.py`, we must make key observations:\n",
    "* When querying the server, the client will sequentially:\n",
    "  * retrieve the list of PoI (**which can pretty much vary in size between cells**)\n",
    "  * the client then iterates through each PoI -> **no shuffling** is performed at any step, this lets us suppose that 2 queries for the same cell will produce a **same sequence of queries for the PoI infos** to the server.\n",
    "  * they make a query to retrieve the PoI infos for each. We must note that the **number of PoI ratings may vary a lot from a PoI to another**, making a PoI info response trace pretty unique.\n",
    "* When receiving client's queries, the server will:\n",
    "  * return the list of around PoI (as explained with a probably preserved order between queries). Here comes a pretty nasty trick: the **implementation given seems to not take into account the variety of possible queries**. Indeed, independently of the queries `types` of PoI (the user subscription), the server will in any case answer by **giving the full list of PoI in the cell** (`records = PoI.query.filter_by(grid_id=cell_id).all()`). This should not happen under the functionnalities described in the handout, but we'll make an adapted training set that will not need to test different types of queries, only the cell ID will vary. If we were to make the attack under fully functionnal system, we'd make a way bigger training set considering the different subscription traces and their combinations.\n",
    "  * when queried on the info for the point of interest, makes an answer that contains all its information. Note that the **number of ratings associated to it which has the most significant impact on the trace**.\n",
    "\n",
    "Considering this, we will now be able to analyse our received data."
   ]
  },
  {
   "cell_type": "markdown",
   "metadata": {},
   "source": [
    "## Received data\n",
    "First, the data we receive is in the form of `.pcap` files. Those were filtered to contain only (see `capture.sh`):\n",
    "* **TCP packets**, other protocols packets are considered not relevant to the application (ARP requests, DNS stuff etc...)\n",
    "* **packets that have a TCP payload**. Basically all TCP ACKs and other controls packets are filtered and not considered as those depend on the networking related traffic and will noise the core of the application layer generated fingerprint\n",
    "\n",
    "From those packets, can be retrieved:\n",
    "* **Ethernet header** (14 bytes, bytes 0 to 13). Those will probably not be relevant for us as depending on the inner Docker networking (or any used LAN environment)\n",
    "* **IP headers** (20 bytes, bytes 14 to 33). Those bytes mostly contain the routing information (source IP, destination IP, routing flags, etc...). The main information we may want to retrieve from this is the direction of the packets we observe (query or response).\n",
    "* **TCP headers** (20 bytes, bytes 34 to 53). These bytes contain the stream informations (sequence and ACK indexes, timestamps, payload size, etc...). These can all be very useful to distinguish a trace from another by the client-server interaction implementation.\n",
    "* **TLS headers** (10 bytes, bytes 54 to 63). These bytes contains some informations about the version and inner data. the bytes 59 to 63 are the first bytes of the encrypted data which is not recorded as it is not meaningful for us. Indeed the headers already contain the length meta-data and we will not get much more from the correctly encrypted payload (unless we make cryptographic attacks which does not seem reasonnable as the TLS1.2 version is used here).\n",
    "\n",
    "From this, we are able to define the data we'll want to keep and output to our classifier."
   ]
  },
  {
   "cell_type": "markdown",
   "metadata": {},
   "source": [
    "## Desired data model\n",
    "First, we must decide on the way we'll represent our data as features.\n",
    "\n",
    "Label (cell_id queried) | Trace (packet list generated)\n",
    ":---: | :---: \n",
    "1 | `[pkt1,pkt2,...]`\n",
    "\n",
    "We must now decide on a way to represent our packets. To reduce the amount of input and redundant information, we can remove the IP addresses as there will only be 2 of them, either going in or out."
   ]
  },
  {
   "cell_type": "markdown",
   "metadata": {},
   "source": [
    "## Extraction from pcap file to dict"
   ]
  },
  {
   "cell_type": "code",
   "execution_count": 21,
   "metadata": {},
   "outputs": [],
   "source": [
    "def from_file_to_packets(path: str)->dict[int, List[Packet]]:\n",
    "    return"
   ]
  },
  {
   "cell_type": "code",
   "execution_count": 22,
   "metadata": {},
   "outputs": [
    {
     "name": "stdout",
     "output_type": "stream",
     "text": [
      "['trace_01_04_08h_cell_1.pcap', 'trace_01_04_08h_cell_10.pcap', 'trace_01_04_08h_cell_100.pcap', 'trace_01_04_08h_cell_11.pcap', 'trace_01_04_08h_cell_12.pcap', 'trace_01_04_08h_cell_13.pcap', 'trace_01_04_08h_cell_14.pcap', 'trace_01_04_08h_cell_15.pcap', 'trace_01_04_08h_cell_16.pcap', 'trace_01_04_08h_cell_17.pcap', 'trace_01_04_08h_cell_18.pcap', 'trace_01_04_08h_cell_19.pcap', 'trace_01_04_08h_cell_2.pcap', 'trace_01_04_08h_cell_20.pcap', 'trace_01_04_08h_cell_21.pcap', 'trace_01_04_08h_cell_22.pcap', 'trace_01_04_08h_cell_23.pcap', 'trace_01_04_08h_cell_24.pcap', 'trace_01_04_08h_cell_25.pcap', 'trace_01_04_08h_cell_26.pcap', 'trace_01_04_08h_cell_27.pcap', 'trace_01_04_08h_cell_28.pcap', 'trace_01_04_08h_cell_29.pcap', 'trace_01_04_08h_cell_3.pcap', 'trace_01_04_08h_cell_30.pcap', 'trace_01_04_08h_cell_31.pcap', 'trace_01_04_08h_cell_32.pcap', 'trace_01_04_08h_cell_33.pcap', 'trace_01_04_08h_cell_34.pcap', 'trace_01_04_08h_cell_35.pcap', 'trace_01_04_08h_cell_36.pcap', 'trace_01_04_08h_cell_37.pcap', 'trace_01_04_08h_cell_38.pcap', 'trace_01_04_08h_cell_39.pcap', 'trace_01_04_08h_cell_4.pcap', 'trace_01_04_08h_cell_40.pcap', 'trace_01_04_08h_cell_41.pcap', 'trace_01_04_08h_cell_42.pcap', 'trace_01_04_08h_cell_43.pcap', 'trace_01_04_08h_cell_44.pcap', 'trace_01_04_08h_cell_45.pcap', 'trace_01_04_08h_cell_46.pcap', 'trace_01_04_08h_cell_47.pcap', 'trace_01_04_08h_cell_48.pcap', 'trace_01_04_08h_cell_49.pcap', 'trace_01_04_08h_cell_5.pcap', 'trace_01_04_08h_cell_50.pcap', 'trace_01_04_08h_cell_51.pcap', 'trace_01_04_08h_cell_52.pcap', 'trace_01_04_08h_cell_53.pcap', 'trace_01_04_08h_cell_54.pcap', 'trace_01_04_08h_cell_55.pcap', 'trace_01_04_08h_cell_56.pcap', 'trace_01_04_08h_cell_57.pcap', 'trace_01_04_08h_cell_58.pcap', 'trace_01_04_08h_cell_59.pcap', 'trace_01_04_08h_cell_6.pcap', 'trace_01_04_08h_cell_60.pcap', 'trace_01_04_08h_cell_61.pcap', 'trace_01_04_08h_cell_62.pcap', 'trace_01_04_08h_cell_63.pcap', 'trace_01_04_08h_cell_64.pcap', 'trace_01_04_08h_cell_65.pcap', 'trace_01_04_08h_cell_66.pcap', 'trace_01_04_08h_cell_67.pcap', 'trace_01_04_08h_cell_68.pcap', 'trace_01_04_08h_cell_69.pcap', 'trace_01_04_08h_cell_7.pcap', 'trace_01_04_08h_cell_70.pcap', 'trace_01_04_08h_cell_71.pcap', 'trace_01_04_08h_cell_72.pcap', 'trace_01_04_08h_cell_73.pcap', 'trace_01_04_08h_cell_74.pcap', 'trace_01_04_08h_cell_75.pcap', 'trace_01_04_08h_cell_76.pcap', 'trace_01_04_08h_cell_77.pcap', 'trace_01_04_08h_cell_78.pcap', 'trace_01_04_08h_cell_79.pcap', 'trace_01_04_08h_cell_8.pcap', 'trace_01_04_08h_cell_80.pcap', 'trace_01_04_08h_cell_81.pcap', 'trace_01_04_08h_cell_82.pcap', 'trace_01_04_08h_cell_83.pcap', 'trace_01_04_08h_cell_84.pcap', 'trace_01_04_08h_cell_85.pcap', 'trace_01_04_08h_cell_86.pcap', 'trace_01_04_08h_cell_87.pcap', 'trace_01_04_08h_cell_88.pcap', 'trace_01_04_08h_cell_89.pcap', 'trace_01_04_08h_cell_9.pcap', 'trace_01_04_08h_cell_90.pcap', 'trace_01_04_08h_cell_91.pcap', 'trace_01_04_08h_cell_92.pcap', 'trace_01_04_08h_cell_93.pcap', 'trace_01_04_08h_cell_94.pcap', 'trace_01_04_08h_cell_95.pcap', 'trace_01_04_08h_cell_96.pcap', 'trace_01_04_08h_cell_97.pcap', 'trace_01_04_08h_cell_98.pcap', 'trace_01_04_08h_cell_99.pcap', 'trace_01_04_11h_cell_1.pcap', 'trace_01_04_11h_cell_10.pcap', 'trace_01_04_11h_cell_100.pcap', 'trace_01_04_11h_cell_11.pcap', 'trace_01_04_11h_cell_12.pcap', 'trace_01_04_11h_cell_13.pcap', 'trace_01_04_11h_cell_14.pcap', 'trace_01_04_11h_cell_15.pcap', 'trace_01_04_11h_cell_16.pcap', 'trace_01_04_11h_cell_17.pcap', 'trace_01_04_11h_cell_18.pcap', 'trace_01_04_11h_cell_19.pcap', 'trace_01_04_11h_cell_2.pcap', 'trace_01_04_11h_cell_20.pcap', 'trace_01_04_11h_cell_21.pcap', 'trace_01_04_11h_cell_22.pcap', 'trace_01_04_11h_cell_23.pcap', 'trace_01_04_11h_cell_24.pcap', 'trace_01_04_11h_cell_25.pcap', 'trace_01_04_11h_cell_26.pcap', 'trace_01_04_11h_cell_27.pcap', 'trace_01_04_11h_cell_28.pcap', 'trace_01_04_11h_cell_29.pcap', 'trace_01_04_11h_cell_3.pcap', 'trace_01_04_11h_cell_30.pcap', 'trace_01_04_11h_cell_31.pcap', 'trace_01_04_11h_cell_32.pcap', 'trace_01_04_11h_cell_33.pcap', 'trace_01_04_11h_cell_34.pcap', 'trace_01_04_11h_cell_35.pcap', 'trace_01_04_11h_cell_36.pcap', 'trace_01_04_11h_cell_37.pcap', 'trace_01_04_11h_cell_38.pcap', 'trace_01_04_11h_cell_39.pcap', 'trace_01_04_11h_cell_4.pcap', 'trace_01_04_11h_cell_40.pcap', 'trace_01_04_11h_cell_41.pcap', 'trace_01_04_11h_cell_42.pcap', 'trace_01_04_11h_cell_43.pcap', 'trace_01_04_11h_cell_44.pcap', 'trace_01_04_11h_cell_45.pcap', 'trace_01_04_11h_cell_46.pcap', 'trace_01_04_11h_cell_47.pcap', 'trace_01_04_11h_cell_48.pcap', 'trace_01_04_11h_cell_49.pcap', 'trace_01_04_11h_cell_5.pcap', 'trace_01_04_11h_cell_50.pcap', 'trace_01_04_11h_cell_51.pcap', 'trace_01_04_11h_cell_52.pcap', 'trace_01_04_11h_cell_53.pcap', 'trace_01_04_11h_cell_54.pcap', 'trace_01_04_11h_cell_55.pcap', 'trace_01_04_11h_cell_56.pcap', 'trace_01_04_11h_cell_57.pcap', 'trace_01_04_11h_cell_58.pcap', 'trace_01_04_11h_cell_59.pcap', 'trace_01_04_11h_cell_6.pcap', 'trace_01_04_11h_cell_60.pcap', 'trace_01_04_11h_cell_61.pcap', 'trace_01_04_11h_cell_62.pcap', 'trace_01_04_11h_cell_63.pcap', 'trace_01_04_11h_cell_64.pcap', 'trace_01_04_11h_cell_65.pcap', 'trace_01_04_11h_cell_66.pcap', 'trace_01_04_11h_cell_67.pcap', 'trace_01_04_11h_cell_68.pcap', 'trace_01_04_11h_cell_69.pcap', 'trace_01_04_11h_cell_7.pcap', 'trace_01_04_11h_cell_70.pcap', 'trace_01_04_11h_cell_71.pcap', 'trace_01_04_11h_cell_72.pcap', 'trace_01_04_11h_cell_73.pcap', 'trace_01_04_11h_cell_74.pcap', 'trace_01_04_11h_cell_75.pcap', 'trace_01_04_11h_cell_76.pcap', 'trace_01_04_11h_cell_77.pcap', 'trace_01_04_11h_cell_78.pcap', 'trace_01_04_11h_cell_79.pcap', 'trace_01_04_11h_cell_8.pcap', 'trace_01_04_11h_cell_80.pcap', 'trace_01_04_11h_cell_81.pcap', 'trace_01_04_11h_cell_82.pcap', 'trace_01_04_11h_cell_83.pcap', 'trace_01_04_11h_cell_84.pcap', 'trace_01_04_11h_cell_85.pcap', 'trace_01_04_11h_cell_86.pcap', 'trace_01_04_11h_cell_87.pcap', 'trace_01_04_11h_cell_88.pcap', 'trace_01_04_11h_cell_89.pcap', 'trace_01_04_11h_cell_9.pcap', 'trace_01_04_11h_cell_90.pcap', 'trace_01_04_11h_cell_91.pcap', 'trace_01_04_11h_cell_92.pcap', 'trace_01_04_11h_cell_93.pcap', 'trace_01_04_11h_cell_94.pcap', 'trace_01_04_11h_cell_95.pcap', 'trace_01_04_11h_cell_96.pcap', 'trace_01_04_11h_cell_97.pcap', 'trace_01_04_11h_cell_98.pcap', 'trace_01_04_11h_cell_99.pcap', 'trace_01_04_12h_cell_1.pcap', 'trace_01_04_12h_cell_10.pcap', 'trace_01_04_12h_cell_100.pcap', 'trace_01_04_12h_cell_11.pcap', 'trace_01_04_12h_cell_12.pcap', 'trace_01_04_12h_cell_13.pcap', 'trace_01_04_12h_cell_14.pcap', 'trace_01_04_12h_cell_15.pcap', 'trace_01_04_12h_cell_16.pcap', 'trace_01_04_12h_cell_17.pcap', 'trace_01_04_12h_cell_18.pcap', 'trace_01_04_12h_cell_19.pcap', 'trace_01_04_12h_cell_2.pcap', 'trace_01_04_12h_cell_20.pcap', 'trace_01_04_12h_cell_21.pcap', 'trace_01_04_12h_cell_22.pcap', 'trace_01_04_12h_cell_23.pcap', 'trace_01_04_12h_cell_24.pcap', 'trace_01_04_12h_cell_25.pcap', 'trace_01_04_12h_cell_26.pcap', 'trace_01_04_12h_cell_27.pcap', 'trace_01_04_12h_cell_28.pcap', 'trace_01_04_12h_cell_29.pcap', 'trace_01_04_12h_cell_3.pcap', 'trace_01_04_12h_cell_30.pcap', 'trace_01_04_12h_cell_31.pcap', 'trace_01_04_12h_cell_32.pcap', 'trace_01_04_12h_cell_33.pcap', 'trace_01_04_12h_cell_34.pcap', 'trace_01_04_12h_cell_35.pcap', 'trace_01_04_12h_cell_36.pcap', 'trace_01_04_12h_cell_37.pcap', 'trace_01_04_12h_cell_38.pcap', 'trace_01_04_12h_cell_39.pcap', 'trace_01_04_12h_cell_4.pcap', 'trace_01_04_12h_cell_40.pcap', 'trace_01_04_12h_cell_41.pcap', 'trace_01_04_12h_cell_42.pcap', 'trace_01_04_12h_cell_43.pcap', 'trace_01_04_12h_cell_44.pcap', 'trace_01_04_12h_cell_45.pcap', 'trace_01_04_12h_cell_46.pcap', 'trace_01_04_12h_cell_47.pcap', 'trace_01_04_12h_cell_48.pcap', 'trace_01_04_12h_cell_49.pcap', 'trace_01_04_12h_cell_5.pcap', 'trace_01_04_12h_cell_50.pcap', 'trace_01_04_12h_cell_51.pcap', 'trace_01_04_12h_cell_52.pcap', 'trace_01_04_12h_cell_53.pcap', 'trace_01_04_12h_cell_54.pcap', 'trace_01_04_12h_cell_55.pcap', 'trace_01_04_12h_cell_56.pcap', 'trace_01_04_12h_cell_57.pcap', 'trace_01_04_12h_cell_58.pcap', 'trace_01_04_12h_cell_59.pcap', 'trace_01_04_12h_cell_6.pcap', 'trace_01_04_12h_cell_60.pcap', 'trace_01_04_12h_cell_61.pcap', 'trace_01_04_12h_cell_62.pcap', 'trace_01_04_12h_cell_63.pcap', 'trace_01_04_12h_cell_64.pcap', 'trace_01_04_12h_cell_65.pcap', 'trace_01_04_12h_cell_66.pcap', 'trace_01_04_12h_cell_67.pcap', 'trace_01_04_12h_cell_68.pcap', 'trace_01_04_12h_cell_69.pcap', 'trace_01_04_12h_cell_7.pcap', 'trace_01_04_12h_cell_70.pcap', 'trace_01_04_12h_cell_71.pcap', 'trace_01_04_12h_cell_72.pcap', 'trace_01_04_12h_cell_73.pcap', 'trace_01_04_12h_cell_74.pcap', 'trace_01_04_12h_cell_75.pcap', 'trace_01_04_12h_cell_76.pcap', 'trace_01_04_12h_cell_77.pcap', 'trace_01_04_12h_cell_78.pcap', 'trace_01_04_12h_cell_79.pcap', 'trace_01_04_12h_cell_8.pcap', 'trace_01_04_12h_cell_80.pcap', 'trace_01_04_12h_cell_81.pcap', 'trace_01_04_12h_cell_82.pcap', 'trace_01_04_12h_cell_83.pcap', 'trace_01_04_12h_cell_84.pcap', 'trace_01_04_12h_cell_85.pcap', 'trace_01_04_12h_cell_86.pcap', 'trace_01_04_12h_cell_87.pcap', 'trace_01_04_12h_cell_88.pcap', 'trace_01_04_12h_cell_89.pcap', 'trace_01_04_12h_cell_9.pcap', 'trace_01_04_12h_cell_90.pcap', 'trace_01_04_12h_cell_91.pcap', 'trace_01_04_12h_cell_92.pcap', 'trace_01_04_12h_cell_93.pcap', 'trace_01_04_12h_cell_94.pcap', 'trace_01_04_12h_cell_95.pcap', 'trace_01_04_12h_cell_96.pcap', 'trace_01_04_12h_cell_97.pcap', 'trace_01_04_12h_cell_98.pcap', 'trace_01_04_12h_cell_99.pcap', 'trace_01_04_14h_cell_1.pcap', 'trace_01_04_14h_cell_10.pcap', 'trace_01_04_14h_cell_100.pcap', 'trace_01_04_14h_cell_11.pcap', 'trace_01_04_14h_cell_12.pcap', 'trace_01_04_14h_cell_13.pcap', 'trace_01_04_14h_cell_14.pcap', 'trace_01_04_14h_cell_15.pcap', 'trace_01_04_14h_cell_16.pcap', 'trace_01_04_14h_cell_17.pcap', 'trace_01_04_14h_cell_18.pcap', 'trace_01_04_14h_cell_19.pcap', 'trace_01_04_14h_cell_2.pcap', 'trace_01_04_14h_cell_20.pcap', 'trace_01_04_14h_cell_21.pcap', 'trace_01_04_14h_cell_22.pcap', 'trace_01_04_14h_cell_23.pcap', 'trace_01_04_14h_cell_24.pcap', 'trace_01_04_14h_cell_25.pcap', 'trace_01_04_14h_cell_26.pcap', 'trace_01_04_14h_cell_27.pcap', 'trace_01_04_14h_cell_28.pcap', 'trace_01_04_14h_cell_29.pcap', 'trace_01_04_14h_cell_3.pcap', 'trace_01_04_14h_cell_30.pcap', 'trace_01_04_14h_cell_31.pcap', 'trace_01_04_14h_cell_32.pcap', 'trace_01_04_14h_cell_33.pcap', 'trace_01_04_14h_cell_34.pcap', 'trace_01_04_14h_cell_35.pcap', 'trace_01_04_14h_cell_36.pcap', 'trace_01_04_14h_cell_37.pcap', 'trace_01_04_14h_cell_38.pcap', 'trace_01_04_14h_cell_39.pcap', 'trace_01_04_14h_cell_4.pcap', 'trace_01_04_14h_cell_40.pcap', 'trace_01_04_14h_cell_41.pcap', 'trace_01_04_14h_cell_42.pcap', 'trace_01_04_14h_cell_43.pcap', 'trace_01_04_14h_cell_44.pcap', 'trace_01_04_14h_cell_45.pcap', 'trace_01_04_14h_cell_46.pcap', 'trace_01_04_14h_cell_47.pcap', 'trace_01_04_14h_cell_48.pcap', 'trace_01_04_14h_cell_49.pcap', 'trace_01_04_14h_cell_5.pcap', 'trace_01_04_14h_cell_50.pcap', 'trace_01_04_14h_cell_51.pcap', 'trace_01_04_14h_cell_52.pcap', 'trace_01_04_14h_cell_53.pcap', 'trace_01_04_14h_cell_54.pcap', 'trace_01_04_14h_cell_55.pcap', 'trace_01_04_14h_cell_56.pcap', 'trace_01_04_14h_cell_57.pcap', 'trace_01_04_14h_cell_58.pcap', 'trace_01_04_14h_cell_59.pcap', 'trace_01_04_14h_cell_6.pcap', 'trace_01_04_14h_cell_60.pcap', 'trace_01_04_14h_cell_61.pcap', 'trace_01_04_14h_cell_62.pcap', 'trace_01_04_14h_cell_63.pcap', 'trace_01_04_14h_cell_64.pcap', 'trace_01_04_14h_cell_65.pcap', 'trace_01_04_14h_cell_66.pcap', 'trace_01_04_14h_cell_67.pcap', 'trace_01_04_14h_cell_68.pcap', 'trace_01_04_14h_cell_69.pcap', 'trace_01_04_14h_cell_7.pcap', 'trace_01_04_14h_cell_70.pcap', 'trace_01_04_14h_cell_71.pcap', 'trace_01_04_14h_cell_72.pcap', 'trace_01_04_14h_cell_73.pcap', 'trace_01_04_14h_cell_74.pcap', 'trace_01_04_14h_cell_75.pcap', 'trace_01_04_14h_cell_76.pcap', 'trace_01_04_14h_cell_77.pcap', 'trace_01_04_14h_cell_78.pcap', 'trace_01_04_14h_cell_79.pcap', 'trace_01_04_14h_cell_8.pcap', 'trace_01_04_14h_cell_80.pcap', 'trace_01_04_14h_cell_81.pcap', 'trace_01_04_14h_cell_82.pcap', 'trace_01_04_14h_cell_83.pcap', 'trace_01_04_14h_cell_84.pcap', 'trace_01_04_14h_cell_85.pcap', 'trace_01_04_14h_cell_86.pcap', 'trace_01_04_14h_cell_87.pcap', 'trace_01_04_14h_cell_88.pcap', 'trace_01_04_14h_cell_89.pcap', 'trace_01_04_14h_cell_9.pcap', 'trace_01_04_14h_cell_90.pcap', 'trace_01_04_14h_cell_91.pcap', 'trace_01_04_14h_cell_92.pcap', 'trace_01_04_14h_cell_93.pcap', 'trace_01_04_14h_cell_94.pcap', 'trace_01_04_14h_cell_95.pcap', 'trace_01_04_14h_cell_96.pcap', 'trace_01_04_14h_cell_97.pcap', 'trace_01_04_14h_cell_98.pcap', 'trace_01_04_14h_cell_99.pcap', 'trace_31_03_19h_cell_1.pcap', 'trace_31_03_19h_cell_10.pcap', 'trace_31_03_19h_cell_11.pcap', 'trace_31_03_19h_cell_12.pcap', 'trace_31_03_19h_cell_13.pcap', 'trace_31_03_19h_cell_14.pcap', 'trace_31_03_19h_cell_15.pcap', 'trace_31_03_19h_cell_16.pcap', 'trace_31_03_19h_cell_17.pcap', 'trace_31_03_19h_cell_18.pcap', 'trace_31_03_19h_cell_19.pcap', 'trace_31_03_19h_cell_2.pcap', 'trace_31_03_19h_cell_20.pcap', 'trace_31_03_19h_cell_21.pcap', 'trace_31_03_19h_cell_22.pcap', 'trace_31_03_19h_cell_23.pcap', 'trace_31_03_19h_cell_24.pcap', 'trace_31_03_19h_cell_25.pcap', 'trace_31_03_19h_cell_26.pcap', 'trace_31_03_19h_cell_27.pcap', 'trace_31_03_19h_cell_28.pcap', 'trace_31_03_19h_cell_29.pcap', 'trace_31_03_19h_cell_3.pcap', 'trace_31_03_19h_cell_30.pcap', 'trace_31_03_19h_cell_31.pcap', 'trace_31_03_19h_cell_32.pcap', 'trace_31_03_19h_cell_33.pcap', 'trace_31_03_19h_cell_34.pcap', 'trace_31_03_19h_cell_35.pcap', 'trace_31_03_19h_cell_36.pcap', 'trace_31_03_19h_cell_37.pcap', 'trace_31_03_19h_cell_38.pcap', 'trace_31_03_19h_cell_39.pcap', 'trace_31_03_19h_cell_4.pcap', 'trace_31_03_19h_cell_40.pcap', 'trace_31_03_19h_cell_41.pcap', 'trace_31_03_19h_cell_42.pcap', 'trace_31_03_19h_cell_43.pcap', 'trace_31_03_19h_cell_44.pcap', 'trace_31_03_19h_cell_45.pcap', 'trace_31_03_19h_cell_46.pcap', 'trace_31_03_19h_cell_47.pcap', 'trace_31_03_19h_cell_48.pcap', 'trace_31_03_19h_cell_49.pcap', 'trace_31_03_19h_cell_5.pcap', 'trace_31_03_19h_cell_50.pcap', 'trace_31_03_19h_cell_51.pcap', 'trace_31_03_19h_cell_52.pcap', 'trace_31_03_19h_cell_53.pcap', 'trace_31_03_19h_cell_54.pcap', 'trace_31_03_19h_cell_55.pcap', 'trace_31_03_19h_cell_56.pcap', 'trace_31_03_19h_cell_57.pcap', 'trace_31_03_19h_cell_58.pcap', 'trace_31_03_19h_cell_6.pcap', 'trace_31_03_19h_cell_7.pcap', 'trace_31_03_19h_cell_8.pcap', 'trace_31_03_19h_cell_9.pcap', 'trace_31_03_20h_cell_100.pcap', 'trace_31_03_20h_cell_59.pcap', 'trace_31_03_20h_cell_60.pcap', 'trace_31_03_20h_cell_61.pcap', 'trace_31_03_20h_cell_62.pcap', 'trace_31_03_20h_cell_63.pcap', 'trace_31_03_20h_cell_64.pcap', 'trace_31_03_20h_cell_65.pcap', 'trace_31_03_20h_cell_66.pcap', 'trace_31_03_20h_cell_67.pcap', 'trace_31_03_20h_cell_68.pcap', 'trace_31_03_20h_cell_69.pcap', 'trace_31_03_20h_cell_70.pcap', 'trace_31_03_20h_cell_71.pcap', 'trace_31_03_20h_cell_72.pcap', 'trace_31_03_20h_cell_73.pcap', 'trace_31_03_20h_cell_74.pcap', 'trace_31_03_20h_cell_75.pcap', 'trace_31_03_20h_cell_76.pcap', 'trace_31_03_20h_cell_77.pcap', 'trace_31_03_20h_cell_78.pcap', 'trace_31_03_20h_cell_79.pcap', 'trace_31_03_20h_cell_80.pcap', 'trace_31_03_20h_cell_81.pcap', 'trace_31_03_20h_cell_82.pcap', 'trace_31_03_20h_cell_83.pcap', 'trace_31_03_20h_cell_84.pcap', 'trace_31_03_20h_cell_85.pcap', 'trace_31_03_20h_cell_86.pcap', 'trace_31_03_20h_cell_87.pcap', 'trace_31_03_20h_cell_88.pcap', 'trace_31_03_20h_cell_89.pcap', 'trace_31_03_20h_cell_90.pcap', 'trace_31_03_20h_cell_91.pcap', 'trace_31_03_20h_cell_92.pcap', 'trace_31_03_20h_cell_93.pcap', 'trace_31_03_20h_cell_94.pcap', 'trace_31_03_20h_cell_95.pcap', 'trace_31_03_20h_cell_96.pcap', 'trace_31_03_20h_cell_97.pcap', 'trace_31_03_20h_cell_98.pcap', 'trace_31_03_20h_cell_99.pcap']\n"
     ]
    }
   ],
   "source": [
    "for root, dirs, files in os.walk('traces'):\n",
    "    print([file for file in files if file.endswith('.pcap')])"
   ]
  },
  {
   "cell_type": "code",
   "execution_count": null,
   "metadata": {},
   "outputs": [],
   "source": []
  }
 ],
 "metadata": {
  "interpreter": {
   "hash": "31f2aee4e71d21fbe5cf8b01ff0e069b9275f58929596ceb00d14d90e3e16cd6"
  },
  "kernelspec": {
   "display_name": "Python 3.9.2 64-bit",
   "language": "python",
   "name": "python3"
  },
  "language_info": {
   "codemirror_mode": {
    "name": "ipython",
    "version": 3
   },
   "file_extension": ".py",
   "mimetype": "text/x-python",
   "name": "python",
   "nbconvert_exporter": "python",
   "pygments_lexer": "ipython3",
   "version": "3.9.2"
  },
  "orig_nbformat": 4
 },
 "nbformat": 4,
 "nbformat_minor": 2
}
