{
 "cells": [
  {
   "cell_type": "markdown",
   "id": "wicked-abortion",
   "metadata": {},
   "source": [
    "# Privacy Evaluation"
   ]
  },
  {
   "cell_type": "markdown",
   "id": "featured-carpet",
   "metadata": {},
   "source": [
    "## Package Imports"
   ]
  },
  {
   "cell_type": "code",
   "execution_count": 1,
   "id": "damaged-default",
   "metadata": {},
   "outputs": [],
   "source": [
    "import pandas as pd\n",
    "import numpy as np\n",
    "import seaborn as sns\n",
    "import matplotlib.pyplot as plt"
   ]
  },
  {
   "cell_type": "code",
   "execution_count": 90,
   "id": "acting-musician",
   "metadata": {},
   "outputs": [],
   "source": [
    "from grid import *"
   ]
  },
  {
   "cell_type": "markdown",
   "id": "physical-screen",
   "metadata": {},
   "source": [
    "## Data Imports & Examination"
   ]
  },
  {
   "cell_type": "code",
   "execution_count": 14,
   "id": "adopted-faculty",
   "metadata": {},
   "outputs": [],
   "source": [
    "# Importing data from a CSV file to a pandas dataframe\n",
    "queries = pd.read_csv(\"queries.csv\", sep=' ')\n",
    "pois = pd.read_csv(\"pois.csv\", sep=' ')"
   ]
  },
  {
   "cell_type": "code",
   "execution_count": 15,
   "id": "established-station",
   "metadata": {},
   "outputs": [
    {
     "name": "stdout",
     "output_type": "stream",
     "text": [
      "Number of queries: (20443, 5)\n",
      "Number of POIS: (1060, 5)\n"
     ]
    }
   ],
   "source": [
    "print(\"Number of queries: \" + str(queries.shape))\n",
    "print(\"Number of POIS: \" + str(pois.shape))"
   ]
  },
  {
   "cell_type": "code",
   "execution_count": 17,
   "id": "civil-battery",
   "metadata": {},
   "outputs": [
    {
     "name": "stdout",
     "output_type": "stream",
     "text": [
      "<class 'pandas.core.frame.DataFrame'>\n",
      "RangeIndex: 20443 entries, 0 to 20442\n",
      "Data columns (total 5 columns):\n",
      " #   Column          Non-Null Count  Dtype  \n",
      "---  ------          --------------  -----  \n",
      " 0   ip_address      20443 non-null  object \n",
      " 1   lat             20443 non-null  float64\n",
      " 2   lon             20443 non-null  float64\n",
      " 3   timestamp       20443 non-null  float64\n",
      " 4   poi_type_query  20443 non-null  object \n",
      "dtypes: float64(3), object(2)\n",
      "memory usage: 798.7+ KB\n"
     ]
    }
   ],
   "source": [
    "queries.info()"
   ]
  },
  {
   "cell_type": "code",
   "execution_count": 20,
   "id": "endless-stadium",
   "metadata": {},
   "outputs": [
    {
     "data": {
      "text/plain": [
       "ip_address         200\n",
       "lat                809\n",
       "lon                809\n",
       "timestamp         9739\n",
       "poi_type_query       7\n",
       "dtype: int64"
      ]
     },
     "execution_count": 20,
     "metadata": {},
     "output_type": "execute_result"
    }
   ],
   "source": [
    "queries.nunique()"
   ]
  },
  {
   "cell_type": "code",
   "execution_count": 26,
   "id": "streaming-vietnam",
   "metadata": {},
   "outputs": [
    {
     "data": {
      "text/plain": [
       "poi_id      1060\n",
       "cell_id      100\n",
       "poi_type      12\n",
       "lat         1060\n",
       "lon         1060\n",
       "dtype: int64"
      ]
     },
     "execution_count": 26,
     "metadata": {},
     "output_type": "execute_result"
    }
   ],
   "source": [
    "pois.nunique()"
   ]
  },
  {
   "cell_type": "code",
   "execution_count": 27,
   "id": "pharmaceutical-logan",
   "metadata": {},
   "outputs": [
    {
     "data": {
      "text/html": [
       "<div>\n",
       "<style scoped>\n",
       "    .dataframe tbody tr th:only-of-type {\n",
       "        vertical-align: middle;\n",
       "    }\n",
       "\n",
       "    .dataframe tbody tr th {\n",
       "        vertical-align: top;\n",
       "    }\n",
       "\n",
       "    .dataframe thead th {\n",
       "        text-align: right;\n",
       "    }\n",
       "</style>\n",
       "<table border=\"1\" class=\"dataframe\">\n",
       "  <thead>\n",
       "    <tr style=\"text-align: right;\">\n",
       "      <th></th>\n",
       "      <th>ip_address</th>\n",
       "      <th>lat</th>\n",
       "      <th>lon</th>\n",
       "      <th>timestamp</th>\n",
       "      <th>poi_type_query</th>\n",
       "    </tr>\n",
       "  </thead>\n",
       "  <tbody>\n",
       "    <tr>\n",
       "      <th>0</th>\n",
       "      <td>34.101.177.245</td>\n",
       "      <td>46.532942</td>\n",
       "      <td>6.591174</td>\n",
       "      <td>14.912448</td>\n",
       "      <td>cafeteria</td>\n",
       "    </tr>\n",
       "    <tr>\n",
       "      <th>1</th>\n",
       "      <td>34.101.177.245</td>\n",
       "      <td>46.532942</td>\n",
       "      <td>6.591174</td>\n",
       "      <td>14.912448</td>\n",
       "      <td>restaurant</td>\n",
       "    </tr>\n",
       "    <tr>\n",
       "      <th>2</th>\n",
       "      <td>34.101.177.245</td>\n",
       "      <td>46.550342</td>\n",
       "      <td>6.602852</td>\n",
       "      <td>18.024657</td>\n",
       "      <td>restaurant</td>\n",
       "    </tr>\n",
       "  </tbody>\n",
       "</table>\n",
       "</div>"
      ],
      "text/plain": [
       "       ip_address        lat       lon  timestamp poi_type_query\n",
       "0  34.101.177.245  46.532942  6.591174  14.912448      cafeteria\n",
       "1  34.101.177.245  46.532942  6.591174  14.912448     restaurant\n",
       "2  34.101.177.245  46.550342  6.602852  18.024657     restaurant"
      ]
     },
     "metadata": {},
     "output_type": "display_data"
    }
   ],
   "source": [
    "display(queries.head(n=3))"
   ]
  },
  {
   "cell_type": "code",
   "execution_count": 28,
   "id": "addressed-laptop",
   "metadata": {},
   "outputs": [
    {
     "data": {
      "text/html": [
       "<div>\n",
       "<style scoped>\n",
       "    .dataframe tbody tr th:only-of-type {\n",
       "        vertical-align: middle;\n",
       "    }\n",
       "\n",
       "    .dataframe tbody tr th {\n",
       "        vertical-align: top;\n",
       "    }\n",
       "\n",
       "    .dataframe thead th {\n",
       "        text-align: right;\n",
       "    }\n",
       "</style>\n",
       "<table border=\"1\" class=\"dataframe\">\n",
       "  <thead>\n",
       "    <tr style=\"text-align: right;\">\n",
       "      <th></th>\n",
       "      <th>poi_id</th>\n",
       "      <th>cell_id</th>\n",
       "      <th>poi_type</th>\n",
       "      <th>lat</th>\n",
       "      <th>lon</th>\n",
       "    </tr>\n",
       "  </thead>\n",
       "  <tbody>\n",
       "    <tr>\n",
       "      <th>0</th>\n",
       "      <td>307</td>\n",
       "      <td>1</td>\n",
       "      <td>bar</td>\n",
       "      <td>46.504486</td>\n",
       "      <td>6.559631</td>\n",
       "    </tr>\n",
       "    <tr>\n",
       "      <th>1</th>\n",
       "      <td>331</td>\n",
       "      <td>1</td>\n",
       "      <td>bar</td>\n",
       "      <td>46.500259</td>\n",
       "      <td>6.554721</td>\n",
       "    </tr>\n",
       "    <tr>\n",
       "      <th>2</th>\n",
       "      <td>578</td>\n",
       "      <td>1</td>\n",
       "      <td>supermarket</td>\n",
       "      <td>46.506017</td>\n",
       "      <td>6.551165</td>\n",
       "    </tr>\n",
       "  </tbody>\n",
       "</table>\n",
       "</div>"
      ],
      "text/plain": [
       "   poi_id  cell_id     poi_type        lat       lon\n",
       "0     307        1          bar  46.504486  6.559631\n",
       "1     331        1          bar  46.500259  6.554721\n",
       "2     578        1  supermarket  46.506017  6.551165"
      ]
     },
     "metadata": {},
     "output_type": "display_data"
    }
   ],
   "source": [
    "display(pois.head(n=3))"
   ]
  },
  {
   "cell_type": "code",
   "execution_count": 29,
   "id": "rural-member",
   "metadata": {},
   "outputs": [
    {
     "data": {
      "text/html": [
       "<div>\n",
       "<style scoped>\n",
       "    .dataframe tbody tr th:only-of-type {\n",
       "        vertical-align: middle;\n",
       "    }\n",
       "\n",
       "    .dataframe tbody tr th {\n",
       "        vertical-align: top;\n",
       "    }\n",
       "\n",
       "    .dataframe thead th {\n",
       "        text-align: right;\n",
       "    }\n",
       "</style>\n",
       "<table border=\"1\" class=\"dataframe\">\n",
       "  <thead>\n",
       "    <tr style=\"text-align: right;\">\n",
       "      <th></th>\n",
       "      <th>ip_address</th>\n",
       "      <th>lat</th>\n",
       "      <th>lon</th>\n",
       "      <th>timestamp</th>\n",
       "      <th>poi_type_query</th>\n",
       "    </tr>\n",
       "  </thead>\n",
       "  <tbody>\n",
       "    <tr>\n",
       "      <th>0</th>\n",
       "      <td>34.101.177.245</td>\n",
       "      <td>46.532942</td>\n",
       "      <td>6.591174</td>\n",
       "      <td>14.912448</td>\n",
       "      <td>cafeteria</td>\n",
       "    </tr>\n",
       "    <tr>\n",
       "      <th>1</th>\n",
       "      <td>34.101.177.245</td>\n",
       "      <td>46.532942</td>\n",
       "      <td>6.591174</td>\n",
       "      <td>14.912448</td>\n",
       "      <td>restaurant</td>\n",
       "    </tr>\n",
       "    <tr>\n",
       "      <th>2</th>\n",
       "      <td>34.101.177.245</td>\n",
       "      <td>46.550342</td>\n",
       "      <td>6.602852</td>\n",
       "      <td>18.024657</td>\n",
       "      <td>restaurant</td>\n",
       "    </tr>\n",
       "    <tr>\n",
       "      <th>3</th>\n",
       "      <td>34.101.177.245</td>\n",
       "      <td>46.550342</td>\n",
       "      <td>6.602852</td>\n",
       "      <td>18.024657</td>\n",
       "      <td>cafeteria</td>\n",
       "    </tr>\n",
       "    <tr>\n",
       "      <th>4</th>\n",
       "      <td>34.101.177.245</td>\n",
       "      <td>46.532942</td>\n",
       "      <td>6.591174</td>\n",
       "      <td>36.334539</td>\n",
       "      <td>cafeteria</td>\n",
       "    </tr>\n",
       "    <tr>\n",
       "      <th>...</th>\n",
       "      <td>...</td>\n",
       "      <td>...</td>\n",
       "      <td>...</td>\n",
       "      <td>...</td>\n",
       "      <td>...</td>\n",
       "    </tr>\n",
       "    <tr>\n",
       "      <th>97</th>\n",
       "      <td>34.101.177.245</td>\n",
       "      <td>46.549326</td>\n",
       "      <td>6.609645</td>\n",
       "      <td>449.874300</td>\n",
       "      <td>club</td>\n",
       "    </tr>\n",
       "    <tr>\n",
       "      <th>98</th>\n",
       "      <td>34.101.177.245</td>\n",
       "      <td>46.550342</td>\n",
       "      <td>6.602852</td>\n",
       "      <td>464.003712</td>\n",
       "      <td>dojo</td>\n",
       "    </tr>\n",
       "    <tr>\n",
       "      <th>99</th>\n",
       "      <td>34.101.177.245</td>\n",
       "      <td>46.549880</td>\n",
       "      <td>6.609449</td>\n",
       "      <td>464.003712</td>\n",
       "      <td>cafeteria</td>\n",
       "    </tr>\n",
       "    <tr>\n",
       "      <th>100</th>\n",
       "      <td>34.101.177.245</td>\n",
       "      <td>46.520562</td>\n",
       "      <td>6.577343</td>\n",
       "      <td>464.003712</td>\n",
       "      <td>restaurant</td>\n",
       "    </tr>\n",
       "    <tr>\n",
       "      <th>101</th>\n",
       "      <td>34.101.177.245</td>\n",
       "      <td>46.514210</td>\n",
       "      <td>6.577225</td>\n",
       "      <td>464.003712</td>\n",
       "      <td>club</td>\n",
       "    </tr>\n",
       "  </tbody>\n",
       "</table>\n",
       "<p>102 rows × 5 columns</p>\n",
       "</div>"
      ],
      "text/plain": [
       "         ip_address        lat       lon   timestamp poi_type_query\n",
       "0    34.101.177.245  46.532942  6.591174   14.912448      cafeteria\n",
       "1    34.101.177.245  46.532942  6.591174   14.912448     restaurant\n",
       "2    34.101.177.245  46.550342  6.602852   18.024657     restaurant\n",
       "3    34.101.177.245  46.550342  6.602852   18.024657      cafeteria\n",
       "4    34.101.177.245  46.532942  6.591174   36.334539      cafeteria\n",
       "..              ...        ...       ...         ...            ...\n",
       "97   34.101.177.245  46.549326  6.609645  449.874300           club\n",
       "98   34.101.177.245  46.550342  6.602852  464.003712           dojo\n",
       "99   34.101.177.245  46.549880  6.609449  464.003712      cafeteria\n",
       "100  34.101.177.245  46.520562  6.577343  464.003712     restaurant\n",
       "101  34.101.177.245  46.514210  6.577225  464.003712           club\n",
       "\n",
       "[102 rows x 5 columns]"
      ]
     },
     "metadata": {},
     "output_type": "display_data"
    }
   ],
   "source": [
    "display(queries[queries.ip_address == queries.ip_address[0]])"
   ]
  },
  {
   "cell_type": "code",
   "execution_count": 32,
   "id": "educated-holiday",
   "metadata": {},
   "outputs": [
    {
     "data": {
      "text/html": [
       "<div>\n",
       "<style scoped>\n",
       "    .dataframe tbody tr th:only-of-type {\n",
       "        vertical-align: middle;\n",
       "    }\n",
       "\n",
       "    .dataframe tbody tr th {\n",
       "        vertical-align: top;\n",
       "    }\n",
       "\n",
       "    .dataframe thead th {\n",
       "        text-align: right;\n",
       "    }\n",
       "</style>\n",
       "<table border=\"1\" class=\"dataframe\">\n",
       "  <thead>\n",
       "    <tr style=\"text-align: right;\">\n",
       "      <th></th>\n",
       "      <th>lat</th>\n",
       "      <th>lon</th>\n",
       "      <th>timestamp</th>\n",
       "    </tr>\n",
       "  </thead>\n",
       "  <tbody>\n",
       "    <tr>\n",
       "      <th>count</th>\n",
       "      <td>20443.000000</td>\n",
       "      <td>20443.000000</td>\n",
       "      <td>20443.000000</td>\n",
       "    </tr>\n",
       "    <tr>\n",
       "      <th>mean</th>\n",
       "      <td>46.539054</td>\n",
       "      <td>6.602624</td>\n",
       "      <td>238.874941</td>\n",
       "    </tr>\n",
       "    <tr>\n",
       "      <th>std</th>\n",
       "      <td>0.016432</td>\n",
       "      <td>0.025363</td>\n",
       "      <td>139.502195</td>\n",
       "    </tr>\n",
       "    <tr>\n",
       "      <th>min</th>\n",
       "      <td>46.500091</td>\n",
       "      <td>6.550164</td>\n",
       "      <td>0.621729</td>\n",
       "    </tr>\n",
       "    <tr>\n",
       "      <th>25%</th>\n",
       "      <td>46.526787</td>\n",
       "      <td>6.581744</td>\n",
       "      <td>112.625695</td>\n",
       "    </tr>\n",
       "    <tr>\n",
       "      <th>50%</th>\n",
       "      <td>46.537174</td>\n",
       "      <td>6.602852</td>\n",
       "      <td>236.325009</td>\n",
       "    </tr>\n",
       "    <tr>\n",
       "      <th>75%</th>\n",
       "      <td>46.551689</td>\n",
       "      <td>6.622811</td>\n",
       "      <td>371.802648</td>\n",
       "    </tr>\n",
       "    <tr>\n",
       "      <th>max</th>\n",
       "      <td>46.569737</td>\n",
       "      <td>6.649893</td>\n",
       "      <td>465.996996</td>\n",
       "    </tr>\n",
       "  </tbody>\n",
       "</table>\n",
       "</div>"
      ],
      "text/plain": [
       "                lat           lon     timestamp\n",
       "count  20443.000000  20443.000000  20443.000000\n",
       "mean      46.539054      6.602624    238.874941\n",
       "std        0.016432      0.025363    139.502195\n",
       "min       46.500091      6.550164      0.621729\n",
       "25%       46.526787      6.581744    112.625695\n",
       "50%       46.537174      6.602852    236.325009\n",
       "75%       46.551689      6.622811    371.802648\n",
       "max       46.569737      6.649893    465.996996"
      ]
     },
     "metadata": {},
     "output_type": "display_data"
    }
   ],
   "source": [
    "display(queries.describe())"
   ]
  },
  {
   "cell_type": "markdown",
   "id": "thermal-alexander",
   "metadata": {},
   "source": [
    "## Data Analysis"
   ]
  },
  {
   "cell_type": "code",
   "execution_count": 34,
   "id": "solid-attribute",
   "metadata": {},
   "outputs": [
    {
     "data": {
      "text/plain": [
       "['bar',\n",
       " 'supermarket',\n",
       " 'club',\n",
       " 'restaurant',\n",
       " 'cafeteria',\n",
       " 'gym',\n",
       " 'dojo',\n",
       " 'appartment_block',\n",
       " 'villa',\n",
       " 'office',\n",
       " 'laboratory',\n",
       " 'company']"
      ]
     },
     "execution_count": 34,
     "metadata": {},
     "output_type": "execute_result"
    }
   ],
   "source": [
    "poi_types = pois['poi_type'].unique()\n",
    "list(poi_types)"
   ]
  },
  {
   "cell_type": "code",
   "execution_count": 36,
   "id": "continent-mount",
   "metadata": {},
   "outputs": [
    {
     "data": {
      "text/plain": [
       "['cafeteria', 'restaurant', 'dojo', 'club', 'bar', 'supermarket', 'gym']"
      ]
     },
     "execution_count": 36,
     "metadata": {},
     "output_type": "execute_result"
    }
   ],
   "source": [
    "poi_types_q = queries['poi_type_query'].unique()\n",
    "list(poi_types_q)"
   ]
  },
  {
   "cell_type": "code",
   "execution_count": 51,
   "id": "adapted-yellow",
   "metadata": {},
   "outputs": [
    {
     "data": {
      "image/png": "[encoded data removed]",
      "text/plain": [
       "<Figure size 864x288 with 1 Axes>"
      ]
     },
     "metadata": {
      "needs_background": "light"
     },
     "output_type": "display_data"
    }
   ],
   "source": [
    "plt.figure(figsize = (12,4))\n",
    "\n",
    "g = sns.countplot(x=queries['poi_type_query'], palette=\"Set2\", order=poi_types_q)\n",
    "g.set_xticklabels(g.get_xticklabels(),rotation=45)\n",
    "g.set_title(\"Counts by POI Type\", fontsize=15)\n",
    "g.set_xlabel(\"\", fontsize=15)\n",
    "g.set_ylabel(\"Count\", fontsize=12)\n",
    "g.set(ylim=(0, 6000))\n",
    "\n",
    "plt.show()"
   ]
  },
  {
   "cell_type": "code",
   "execution_count": 53,
   "id": "spare-rhythm",
   "metadata": {},
   "outputs": [
    {
     "data": {
      "image/png": "[encoded data removed]",
      "text/plain": [
       "<Figure size 864x288 with 1 Axes>"
      ]
     },
     "metadata": {
      "needs_background": "light"
     },
     "output_type": "display_data"
    }
   ],
   "source": [
    "top_channels = queries.groupby(\"ip_address\").size().reset_index(name=\"query_count\").sort_values(\"query_count\", ascending=False).head(20)\n",
    "\n",
    "plt.figure(figsize = (12,4))\n",
    "\n",
    "g = sns.barplot(x=\"query_count\", y=\"ip_address\", data=top_channels, palette=\"Set3\")\n",
    "g.set(xlim=(0, 120))\n",
    "g.set_title(\"Counts by IP Addr\", fontsize=15)\n",
    "\n",
    "\n",
    "plt.show()"
   ]
  },
  {
   "cell_type": "markdown",
   "id": "international-receiver",
   "metadata": {},
   "source": [
    "## Data Cleaning"
   ]
  },
  {
   "cell_type": "markdown",
   "id": "affiliated-mortgage",
   "metadata": {
    "heading_collapsed": true
   },
   "source": [
    "### Transform timestamp into 24h values "
   ]
  },
  {
   "cell_type": "code",
   "execution_count": 56,
   "id": "expanded-actress",
   "metadata": {
    "hidden": true
   },
   "outputs": [
    {
     "data": {
      "text/plain": [
       "pandas.core.frame.DataFrame"
      ]
     },
     "execution_count": 56,
     "metadata": {},
     "output_type": "execute_result"
    }
   ],
   "source": [
    "type(queries)"
   ]
  },
  {
   "cell_type": "code",
   "execution_count": 57,
   "id": "spiritual-synthesis",
   "metadata": {
    "hidden": true
   },
   "outputs": [],
   "source": [
    "queries.timestamp = queries.timestamp.round()"
   ]
  },
  {
   "cell_type": "code",
   "execution_count": 58,
   "id": "social-strategy",
   "metadata": {
    "hidden": true
   },
   "outputs": [
    {
     "data": {
      "text/html": [
       "<div>\n",
       "<style scoped>\n",
       "    .dataframe tbody tr th:only-of-type {\n",
       "        vertical-align: middle;\n",
       "    }\n",
       "\n",
       "    .dataframe tbody tr th {\n",
       "        vertical-align: top;\n",
       "    }\n",
       "\n",
       "    .dataframe thead th {\n",
       "        text-align: right;\n",
       "    }\n",
       "</style>\n",
       "<table border=\"1\" class=\"dataframe\">\n",
       "  <thead>\n",
       "    <tr style=\"text-align: right;\">\n",
       "      <th></th>\n",
       "      <th>ip_address</th>\n",
       "      <th>lat</th>\n",
       "      <th>lon</th>\n",
       "      <th>timestamp</th>\n",
       "      <th>poi_type_query</th>\n",
       "    </tr>\n",
       "  </thead>\n",
       "  <tbody>\n",
       "    <tr>\n",
       "      <th>0</th>\n",
       "      <td>34.101.177.245</td>\n",
       "      <td>46.532942</td>\n",
       "      <td>6.591174</td>\n",
       "      <td>15.0</td>\n",
       "      <td>cafeteria</td>\n",
       "    </tr>\n",
       "    <tr>\n",
       "      <th>1</th>\n",
       "      <td>34.101.177.245</td>\n",
       "      <td>46.532942</td>\n",
       "      <td>6.591174</td>\n",
       "      <td>15.0</td>\n",
       "      <td>restaurant</td>\n",
       "    </tr>\n",
       "    <tr>\n",
       "      <th>2</th>\n",
       "      <td>34.101.177.245</td>\n",
       "      <td>46.550342</td>\n",
       "      <td>6.602852</td>\n",
       "      <td>18.0</td>\n",
       "      <td>restaurant</td>\n",
       "    </tr>\n",
       "  </tbody>\n",
       "</table>\n",
       "</div>"
      ],
      "text/plain": [
       "       ip_address        lat       lon  timestamp poi_type_query\n",
       "0  34.101.177.245  46.532942  6.591174       15.0      cafeteria\n",
       "1  34.101.177.245  46.532942  6.591174       15.0     restaurant\n",
       "2  34.101.177.245  46.550342  6.602852       18.0     restaurant"
      ]
     },
     "metadata": {},
     "output_type": "display_data"
    }
   ],
   "source": [
    "display(queries.head(n=3))"
   ]
  },
  {
   "cell_type": "code",
   "execution_count": 59,
   "id": "municipal-production",
   "metadata": {
    "hidden": true
   },
   "outputs": [],
   "source": [
    "queries.timestamp = queries.timestamp.mod(24)"
   ]
  },
  {
   "cell_type": "code",
   "execution_count": 60,
   "id": "different-detroit",
   "metadata": {
    "hidden": true
   },
   "outputs": [
    {
     "data": {
      "text/html": [
       "<div>\n",
       "<style scoped>\n",
       "    .dataframe tbody tr th:only-of-type {\n",
       "        vertical-align: middle;\n",
       "    }\n",
       "\n",
       "    .dataframe tbody tr th {\n",
       "        vertical-align: top;\n",
       "    }\n",
       "\n",
       "    .dataframe thead th {\n",
       "        text-align: right;\n",
       "    }\n",
       "</style>\n",
       "<table border=\"1\" class=\"dataframe\">\n",
       "  <thead>\n",
       "    <tr style=\"text-align: right;\">\n",
       "      <th></th>\n",
       "      <th>ip_address</th>\n",
       "      <th>lat</th>\n",
       "      <th>lon</th>\n",
       "      <th>timestamp</th>\n",
       "      <th>poi_type_query</th>\n",
       "    </tr>\n",
       "  </thead>\n",
       "  <tbody>\n",
       "    <tr>\n",
       "      <th>0</th>\n",
       "      <td>34.101.177.245</td>\n",
       "      <td>46.532942</td>\n",
       "      <td>6.591174</td>\n",
       "      <td>15.0</td>\n",
       "      <td>cafeteria</td>\n",
       "    </tr>\n",
       "    <tr>\n",
       "      <th>1</th>\n",
       "      <td>34.101.177.245</td>\n",
       "      <td>46.532942</td>\n",
       "      <td>6.591174</td>\n",
       "      <td>15.0</td>\n",
       "      <td>restaurant</td>\n",
       "    </tr>\n",
       "    <tr>\n",
       "      <th>2</th>\n",
       "      <td>34.101.177.245</td>\n",
       "      <td>46.550342</td>\n",
       "      <td>6.602852</td>\n",
       "      <td>18.0</td>\n",
       "      <td>restaurant</td>\n",
       "    </tr>\n",
       "    <tr>\n",
       "      <th>3</th>\n",
       "      <td>34.101.177.245</td>\n",
       "      <td>46.550342</td>\n",
       "      <td>6.602852</td>\n",
       "      <td>18.0</td>\n",
       "      <td>cafeteria</td>\n",
       "    </tr>\n",
       "    <tr>\n",
       "      <th>4</th>\n",
       "      <td>34.101.177.245</td>\n",
       "      <td>46.532942</td>\n",
       "      <td>6.591174</td>\n",
       "      <td>12.0</td>\n",
       "      <td>cafeteria</td>\n",
       "    </tr>\n",
       "    <tr>\n",
       "      <th>5</th>\n",
       "      <td>34.101.177.245</td>\n",
       "      <td>46.532942</td>\n",
       "      <td>6.591174</td>\n",
       "      <td>12.0</td>\n",
       "      <td>restaurant</td>\n",
       "    </tr>\n",
       "    <tr>\n",
       "      <th>6</th>\n",
       "      <td>34.101.177.245</td>\n",
       "      <td>46.550342</td>\n",
       "      <td>6.602852</td>\n",
       "      <td>17.0</td>\n",
       "      <td>dojo</td>\n",
       "    </tr>\n",
       "    <tr>\n",
       "      <th>7</th>\n",
       "      <td>34.101.177.245</td>\n",
       "      <td>46.550342</td>\n",
       "      <td>6.602852</td>\n",
       "      <td>17.0</td>\n",
       "      <td>restaurant</td>\n",
       "    </tr>\n",
       "    <tr>\n",
       "      <th>8</th>\n",
       "      <td>34.101.177.245</td>\n",
       "      <td>46.549880</td>\n",
       "      <td>6.609449</td>\n",
       "      <td>18.0</td>\n",
       "      <td>dojo</td>\n",
       "    </tr>\n",
       "    <tr>\n",
       "      <th>9</th>\n",
       "      <td>34.101.177.245</td>\n",
       "      <td>46.549880</td>\n",
       "      <td>6.609449</td>\n",
       "      <td>18.0</td>\n",
       "      <td>restaurant</td>\n",
       "    </tr>\n",
       "  </tbody>\n",
       "</table>\n",
       "</div>"
      ],
      "text/plain": [
       "       ip_address        lat       lon  timestamp poi_type_query\n",
       "0  34.101.177.245  46.532942  6.591174       15.0      cafeteria\n",
       "1  34.101.177.245  46.532942  6.591174       15.0     restaurant\n",
       "2  34.101.177.245  46.550342  6.602852       18.0     restaurant\n",
       "3  34.101.177.245  46.550342  6.602852       18.0      cafeteria\n",
       "4  34.101.177.245  46.532942  6.591174       12.0      cafeteria\n",
       "5  34.101.177.245  46.532942  6.591174       12.0     restaurant\n",
       "6  34.101.177.245  46.550342  6.602852       17.0           dojo\n",
       "7  34.101.177.245  46.550342  6.602852       17.0     restaurant\n",
       "8  34.101.177.245  46.549880  6.609449       18.0           dojo\n",
       "9  34.101.177.245  46.549880  6.609449       18.0     restaurant"
      ]
     },
     "metadata": {},
     "output_type": "display_data"
    }
   ],
   "source": [
    "display(queries.head(n=10))"
   ]
  },
  {
   "cell_type": "markdown",
   "id": "copyrighted-wichita",
   "metadata": {},
   "source": [
    "### Map lat/lon to cell"
   ]
  },
  {
   "cell_type": "markdown",
   "id": "contemporary-necessity",
   "metadata": {},
   "source": [
    "#### Create dataframe with cell bounds (useless)"
   ]
  },
  {
   "cell_type": "code",
   "execution_count": 62,
   "id": "brief-universal",
   "metadata": {},
   "outputs": [
    {
     "data": {
      "text/html": [
       "<div>\n",
       "<style scoped>\n",
       "    .dataframe tbody tr th:only-of-type {\n",
       "        vertical-align: middle;\n",
       "    }\n",
       "\n",
       "    .dataframe tbody tr th {\n",
       "        vertical-align: top;\n",
       "    }\n",
       "\n",
       "    .dataframe thead th {\n",
       "        text-align: right;\n",
       "    }\n",
       "</style>\n",
       "<table border=\"1\" class=\"dataframe\">\n",
       "  <thead>\n",
       "    <tr style=\"text-align: right;\">\n",
       "      <th></th>\n",
       "      <th>poi_id</th>\n",
       "      <th>cell_id</th>\n",
       "      <th>poi_type</th>\n",
       "      <th>lat</th>\n",
       "      <th>lon</th>\n",
       "    </tr>\n",
       "  </thead>\n",
       "  <tbody>\n",
       "    <tr>\n",
       "      <th>0</th>\n",
       "      <td>307</td>\n",
       "      <td>1</td>\n",
       "      <td>bar</td>\n",
       "      <td>46.504486</td>\n",
       "      <td>6.559631</td>\n",
       "    </tr>\n",
       "    <tr>\n",
       "      <th>1</th>\n",
       "      <td>331</td>\n",
       "      <td>1</td>\n",
       "      <td>bar</td>\n",
       "      <td>46.500259</td>\n",
       "      <td>6.554721</td>\n",
       "    </tr>\n",
       "    <tr>\n",
       "      <th>2</th>\n",
       "      <td>578</td>\n",
       "      <td>1</td>\n",
       "      <td>supermarket</td>\n",
       "      <td>46.506017</td>\n",
       "      <td>6.551165</td>\n",
       "    </tr>\n",
       "  </tbody>\n",
       "</table>\n",
       "</div>"
      ],
      "text/plain": [
       "   poi_id  cell_id     poi_type        lat       lon\n",
       "0     307        1          bar  46.504486  6.559631\n",
       "1     331        1          bar  46.500259  6.554721\n",
       "2     578        1  supermarket  46.506017  6.551165"
      ]
     },
     "metadata": {},
     "output_type": "display_data"
    }
   ],
   "source": [
    "display(pois.head(n=3))"
   ]
  },
  {
   "cell_type": "code",
   "execution_count": 67,
   "id": "express-investing",
   "metadata": {},
   "outputs": [
    {
     "data": {
      "text/html": [
       "<div>\n",
       "<style scoped>\n",
       "    .dataframe tbody tr th:only-of-type {\n",
       "        vertical-align: middle;\n",
       "    }\n",
       "\n",
       "    .dataframe tbody tr th {\n",
       "        vertical-align: top;\n",
       "    }\n",
       "\n",
       "    .dataframe thead th {\n",
       "        text-align: right;\n",
       "    }\n",
       "</style>\n",
       "<table border=\"1\" class=\"dataframe\">\n",
       "  <thead>\n",
       "    <tr style=\"text-align: right;\">\n",
       "      <th></th>\n",
       "      <th>cell_id</th>\n",
       "      <th>lat</th>\n",
       "      <th>lon</th>\n",
       "    </tr>\n",
       "  </thead>\n",
       "  <tbody>\n",
       "    <tr>\n",
       "      <th>0</th>\n",
       "      <td>1</td>\n",
       "      <td>46.504486</td>\n",
       "      <td>6.559631</td>\n",
       "    </tr>\n",
       "    <tr>\n",
       "      <th>1</th>\n",
       "      <td>1</td>\n",
       "      <td>46.500259</td>\n",
       "      <td>6.554721</td>\n",
       "    </tr>\n",
       "    <tr>\n",
       "      <th>2</th>\n",
       "      <td>1</td>\n",
       "      <td>46.506017</td>\n",
       "      <td>6.551165</td>\n",
       "    </tr>\n",
       "  </tbody>\n",
       "</table>\n",
       "</div>"
      ],
      "text/plain": [
       "   cell_id        lat       lon\n",
       "0        1  46.504486  6.559631\n",
       "1        1  46.500259  6.554721\n",
       "2        1  46.506017  6.551165"
      ]
     },
     "metadata": {},
     "output_type": "display_data"
    }
   ],
   "source": [
    "all_cell_location = pois[['cell_id', 'lat', 'lon']]\n",
    "display(all_cell_location.head(n=3))"
   ]
  },
  {
   "cell_type": "code",
   "execution_count": 84,
   "id": "sunset-begin",
   "metadata": {
    "scrolled": true
   },
   "outputs": [
    {
     "data": {
      "text/html": [
       "<div>\n",
       "<style scoped>\n",
       "    .dataframe tbody tr th:only-of-type {\n",
       "        vertical-align: middle;\n",
       "    }\n",
       "\n",
       "    .dataframe tbody tr th {\n",
       "        vertical-align: top;\n",
       "    }\n",
       "\n",
       "    .dataframe thead th {\n",
       "        text-align: right;\n",
       "    }\n",
       "</style>\n",
       "<table border=\"1\" class=\"dataframe\">\n",
       "  <thead>\n",
       "    <tr style=\"text-align: right;\">\n",
       "      <th></th>\n",
       "    </tr>\n",
       "    <tr>\n",
       "      <th>cell_id</th>\n",
       "    </tr>\n",
       "  </thead>\n",
       "  <tbody>\n",
       "    <tr>\n",
       "      <th>1</th>\n",
       "    </tr>\n",
       "    <tr>\n",
       "      <th>2</th>\n",
       "    </tr>\n",
       "    <tr>\n",
       "      <th>3</th>\n",
       "    </tr>\n",
       "  </tbody>\n",
       "</table>\n",
       "</div>"
      ],
      "text/plain": [
       "Empty DataFrame\n",
       "Columns: []\n",
       "Index: [1, 2, 3]"
      ]
     },
     "metadata": {},
     "output_type": "display_data"
    }
   ],
   "source": [
    "cell_location = pd.DataFrame({'cell_id': all_cell_location['cell_id'].unique()})\n",
    "cell_location.set_index('cell_id', inplace=True)\n",
    "display(cell_location.head(n=3))"
   ]
  },
  {
   "cell_type": "code",
   "execution_count": 85,
   "id": "curious-nursery",
   "metadata": {},
   "outputs": [
    {
     "data": {
      "text/html": [
       "<div>\n",
       "<style scoped>\n",
       "    .dataframe tbody tr th:only-of-type {\n",
       "        vertical-align: middle;\n",
       "    }\n",
       "\n",
       "    .dataframe tbody tr th {\n",
       "        vertical-align: top;\n",
       "    }\n",
       "\n",
       "    .dataframe thead th {\n",
       "        text-align: right;\n",
       "    }\n",
       "</style>\n",
       "<table border=\"1\" class=\"dataframe\">\n",
       "  <thead>\n",
       "    <tr style=\"text-align: right;\">\n",
       "      <th></th>\n",
       "      <th>lat</th>\n",
       "      <th>lon</th>\n",
       "    </tr>\n",
       "    <tr>\n",
       "      <th>cell_id</th>\n",
       "      <th></th>\n",
       "      <th></th>\n",
       "    </tr>\n",
       "  </thead>\n",
       "  <tbody>\n",
       "    <tr>\n",
       "      <th>1</th>\n",
       "      <td>46.500259</td>\n",
       "      <td>6.550519</td>\n",
       "    </tr>\n",
       "    <tr>\n",
       "      <th>2</th>\n",
       "      <td>46.500285</td>\n",
       "      <td>6.563023</td>\n",
       "    </tr>\n",
       "    <tr>\n",
       "      <th>3</th>\n",
       "      <td>46.500748</td>\n",
       "      <td>6.571932</td>\n",
       "    </tr>\n",
       "    <tr>\n",
       "      <th>4</th>\n",
       "      <td>46.500051</td>\n",
       "      <td>6.580477</td>\n",
       "    </tr>\n",
       "    <tr>\n",
       "      <th>5</th>\n",
       "      <td>46.501472</td>\n",
       "      <td>6.590776</td>\n",
       "    </tr>\n",
       "    <tr>\n",
       "      <th>...</th>\n",
       "      <td>...</td>\n",
       "      <td>...</td>\n",
       "    </tr>\n",
       "    <tr>\n",
       "      <th>96</th>\n",
       "      <td>46.563737</td>\n",
       "      <td>6.600541</td>\n",
       "    </tr>\n",
       "    <tr>\n",
       "      <th>97</th>\n",
       "      <td>46.563505</td>\n",
       "      <td>6.610247</td>\n",
       "    </tr>\n",
       "    <tr>\n",
       "      <th>98</th>\n",
       "      <td>46.563743</td>\n",
       "      <td>6.620531</td>\n",
       "    </tr>\n",
       "    <tr>\n",
       "      <th>99</th>\n",
       "      <td>46.563257</td>\n",
       "      <td>6.631669</td>\n",
       "    </tr>\n",
       "    <tr>\n",
       "      <th>100</th>\n",
       "      <td>46.563369</td>\n",
       "      <td>6.640250</td>\n",
       "    </tr>\n",
       "  </tbody>\n",
       "</table>\n",
       "<p>100 rows × 2 columns</p>\n",
       "</div>"
      ],
      "text/plain": [
       "               lat       lon\n",
       "cell_id                     \n",
       "1        46.500259  6.550519\n",
       "2        46.500285  6.563023\n",
       "3        46.500748  6.571932\n",
       "4        46.500051  6.580477\n",
       "5        46.501472  6.590776\n",
       "...            ...       ...\n",
       "96       46.563737  6.600541\n",
       "97       46.563505  6.610247\n",
       "98       46.563743  6.620531\n",
       "99       46.563257  6.631669\n",
       "100      46.563369  6.640250\n",
       "\n",
       "[100 rows x 2 columns]"
      ]
     },
     "execution_count": 85,
     "metadata": {},
     "output_type": "execute_result"
    }
   ],
   "source": [
    "all_cell_location.groupby(['cell_id']).min()"
   ]
  },
  {
   "cell_type": "code",
   "execution_count": 86,
   "id": "other-bicycle",
   "metadata": {},
   "outputs": [
    {
     "data": {
      "text/html": [
       "<div>\n",
       "<style scoped>\n",
       "    .dataframe tbody tr th:only-of-type {\n",
       "        vertical-align: middle;\n",
       "    }\n",
       "\n",
       "    .dataframe tbody tr th {\n",
       "        vertical-align: top;\n",
       "    }\n",
       "\n",
       "    .dataframe thead th {\n",
       "        text-align: right;\n",
       "    }\n",
       "</style>\n",
       "<table border=\"1\" class=\"dataframe\">\n",
       "  <thead>\n",
       "    <tr style=\"text-align: right;\">\n",
       "      <th></th>\n",
       "      <th>min_lat</th>\n",
       "      <th>max_lat</th>\n",
       "    </tr>\n",
       "    <tr>\n",
       "      <th>cell_id</th>\n",
       "      <th></th>\n",
       "      <th></th>\n",
       "    </tr>\n",
       "  </thead>\n",
       "  <tbody>\n",
       "    <tr>\n",
       "      <th>1</th>\n",
       "      <td>46.500259</td>\n",
       "      <td>46.506017</td>\n",
       "    </tr>\n",
       "    <tr>\n",
       "      <th>2</th>\n",
       "      <td>46.500285</td>\n",
       "      <td>46.506975</td>\n",
       "    </tr>\n",
       "    <tr>\n",
       "      <th>3</th>\n",
       "      <td>46.500748</td>\n",
       "      <td>46.505182</td>\n",
       "    </tr>\n",
       "  </tbody>\n",
       "</table>\n",
       "</div>"
      ],
      "text/plain": [
       "           min_lat    max_lat\n",
       "cell_id                      \n",
       "1        46.500259  46.506017\n",
       "2        46.500285  46.506975\n",
       "3        46.500748  46.505182"
      ]
     },
     "metadata": {},
     "output_type": "display_data"
    }
   ],
   "source": [
    "cell_location['min_lat'] = all_cell_location.groupby(['cell_id']).min().lat\n",
    "cell_location['max_lat'] = all_cell_location.groupby(['cell_id']).max().lat\n",
    "display(cell_location.head(n=3))"
   ]
  },
  {
   "cell_type": "code",
   "execution_count": 87,
   "id": "featured-america",
   "metadata": {
    "scrolled": true
   },
   "outputs": [
    {
     "data": {
      "text/html": [
       "<div>\n",
       "<style scoped>\n",
       "    .dataframe tbody tr th:only-of-type {\n",
       "        vertical-align: middle;\n",
       "    }\n",
       "\n",
       "    .dataframe tbody tr th {\n",
       "        vertical-align: top;\n",
       "    }\n",
       "\n",
       "    .dataframe thead th {\n",
       "        text-align: right;\n",
       "    }\n",
       "</style>\n",
       "<table border=\"1\" class=\"dataframe\">\n",
       "  <thead>\n",
       "    <tr style=\"text-align: right;\">\n",
       "      <th></th>\n",
       "      <th>min_lat</th>\n",
       "      <th>max_lat</th>\n",
       "      <th>min_lon</th>\n",
       "      <th>max_lon</th>\n",
       "    </tr>\n",
       "    <tr>\n",
       "      <th>cell_id</th>\n",
       "      <th></th>\n",
       "      <th></th>\n",
       "      <th></th>\n",
       "      <th></th>\n",
       "    </tr>\n",
       "  </thead>\n",
       "  <tbody>\n",
       "    <tr>\n",
       "      <th>1</th>\n",
       "      <td>46.500259</td>\n",
       "      <td>46.506017</td>\n",
       "      <td>6.550519</td>\n",
       "      <td>6.559631</td>\n",
       "    </tr>\n",
       "    <tr>\n",
       "      <th>2</th>\n",
       "      <td>46.500285</td>\n",
       "      <td>46.506975</td>\n",
       "      <td>6.563023</td>\n",
       "      <td>6.569209</td>\n",
       "    </tr>\n",
       "    <tr>\n",
       "      <th>3</th>\n",
       "      <td>46.500748</td>\n",
       "      <td>46.505182</td>\n",
       "      <td>6.571932</td>\n",
       "      <td>6.575237</td>\n",
       "    </tr>\n",
       "  </tbody>\n",
       "</table>\n",
       "</div>"
      ],
      "text/plain": [
       "           min_lat    max_lat   min_lon   max_lon\n",
       "cell_id                                          \n",
       "1        46.500259  46.506017  6.550519  6.559631\n",
       "2        46.500285  46.506975  6.563023  6.569209\n",
       "3        46.500748  46.505182  6.571932  6.575237"
      ]
     },
     "metadata": {},
     "output_type": "display_data"
    }
   ],
   "source": [
    "cell_location['min_lon'] = all_cell_location.groupby(['cell_id']).min().lon\n",
    "cell_location['max_lon'] = all_cell_location.groupby(['cell_id']).max().lon\n",
    "display(cell_location.head(n=3))"
   ]
  },
  {
   "cell_type": "markdown",
   "id": "common-wagner",
   "metadata": {},
   "source": [
    "#### Using grid method"
   ]
  },
  {
   "cell_type": "code",
   "execution_count": 92,
   "id": "global-hundred",
   "metadata": {},
   "outputs": [
    {
     "data": {
      "text/html": [
       "<div>\n",
       "<style scoped>\n",
       "    .dataframe tbody tr th:only-of-type {\n",
       "        vertical-align: middle;\n",
       "    }\n",
       "\n",
       "    .dataframe tbody tr th {\n",
       "        vertical-align: top;\n",
       "    }\n",
       "\n",
       "    .dataframe thead th {\n",
       "        text-align: right;\n",
       "    }\n",
       "</style>\n",
       "<table border=\"1\" class=\"dataframe\">\n",
       "  <thead>\n",
       "    <tr style=\"text-align: right;\">\n",
       "      <th></th>\n",
       "      <th>ip_address</th>\n",
       "      <th>lat</th>\n",
       "      <th>lon</th>\n",
       "      <th>timestamp</th>\n",
       "      <th>poi_type_query</th>\n",
       "      <th>cell_id</th>\n",
       "    </tr>\n",
       "  </thead>\n",
       "  <tbody>\n",
       "    <tr>\n",
       "      <th>0</th>\n",
       "      <td>34.101.177.245</td>\n",
       "      <td>46.532942</td>\n",
       "      <td>6.591174</td>\n",
       "      <td>15.0</td>\n",
       "      <td>cafeteria</td>\n",
       "      <td>45</td>\n",
       "    </tr>\n",
       "    <tr>\n",
       "      <th>1</th>\n",
       "      <td>34.101.177.245</td>\n",
       "      <td>46.532942</td>\n",
       "      <td>6.591174</td>\n",
       "      <td>15.0</td>\n",
       "      <td>restaurant</td>\n",
       "      <td>45</td>\n",
       "    </tr>\n",
       "    <tr>\n",
       "      <th>2</th>\n",
       "      <td>34.101.177.245</td>\n",
       "      <td>46.550342</td>\n",
       "      <td>6.602852</td>\n",
       "      <td>18.0</td>\n",
       "      <td>restaurant</td>\n",
       "      <td>76</td>\n",
       "    </tr>\n",
       "  </tbody>\n",
       "</table>\n",
       "</div>"
      ],
      "text/plain": [
       "       ip_address        lat       lon  timestamp poi_type_query  cell_id\n",
       "0  34.101.177.245  46.532942  6.591174       15.0      cafeteria       45\n",
       "1  34.101.177.245  46.532942  6.591174       15.0     restaurant       45\n",
       "2  34.101.177.245  46.550342  6.602852       18.0     restaurant       76"
      ]
     },
     "metadata": {},
     "output_type": "display_data"
    }
   ],
   "source": [
    "queries['cell_id'] = queries.apply(lambda x: location_to_cell_id(x.lat, x.lon), axis=1)\n",
    "display(queries.head(n=3))"
   ]
  },
  {
   "cell_type": "markdown",
   "id": "present-compiler",
   "metadata": {},
   "source": [
    "### Identify most frequent cell_ids "
   ]
  },
  {
   "cell_type": "code",
   "execution_count": 93,
   "id": "functioning-decade",
   "metadata": {},
   "outputs": [
    {
     "data": {
      "text/html": [
       "<div>\n",
       "<style scoped>\n",
       "    .dataframe tbody tr th:only-of-type {\n",
       "        vertical-align: middle;\n",
       "    }\n",
       "\n",
       "    .dataframe tbody tr th {\n",
       "        vertical-align: top;\n",
       "    }\n",
       "\n",
       "    .dataframe thead th {\n",
       "        text-align: right;\n",
       "    }\n",
       "</style>\n",
       "<table border=\"1\" class=\"dataframe\">\n",
       "  <thead>\n",
       "    <tr style=\"text-align: right;\">\n",
       "      <th></th>\n",
       "      <th>cell_id</th>\n",
       "    </tr>\n",
       "    <tr>\n",
       "      <th>ip_address</th>\n",
       "      <th></th>\n",
       "    </tr>\n",
       "  </thead>\n",
       "  <tbody>\n",
       "    <tr>\n",
       "      <th>0.98.248.97</th>\n",
       "      <td>18</td>\n",
       "    </tr>\n",
       "    <tr>\n",
       "      <th>10.229.150.53</th>\n",
       "      <td>85</td>\n",
       "    </tr>\n",
       "    <tr>\n",
       "      <th>100.255.65.73</th>\n",
       "      <td>76</td>\n",
       "    </tr>\n",
       "    <tr>\n",
       "      <th>101.193.212.180</th>\n",
       "      <td>58</td>\n",
       "    </tr>\n",
       "    <tr>\n",
       "      <th>103.107.27.105</th>\n",
       "      <td>58</td>\n",
       "    </tr>\n",
       "    <tr>\n",
       "      <th>...</th>\n",
       "      <td>...</td>\n",
       "    </tr>\n",
       "    <tr>\n",
       "      <th>94.220.204.193</th>\n",
       "      <td>82</td>\n",
       "    </tr>\n",
       "    <tr>\n",
       "      <th>94.223.68.192</th>\n",
       "      <td>56</td>\n",
       "    </tr>\n",
       "    <tr>\n",
       "      <th>95.146.245.203</th>\n",
       "      <td>84</td>\n",
       "    </tr>\n",
       "    <tr>\n",
       "      <th>96.128.153.246</th>\n",
       "      <td>90</td>\n",
       "    </tr>\n",
       "    <tr>\n",
       "      <th>97.138.146.97</th>\n",
       "      <td>22</td>\n",
       "    </tr>\n",
       "  </tbody>\n",
       "</table>\n",
       "<p>200 rows × 1 columns</p>\n",
       "</div>"
      ],
      "text/plain": [
       "                 cell_id\n",
       "ip_address              \n",
       "0.98.248.97           18\n",
       "10.229.150.53         85\n",
       "100.255.65.73         76\n",
       "101.193.212.180       58\n",
       "103.107.27.105        58\n",
       "...                  ...\n",
       "94.220.204.193        82\n",
       "94.223.68.192         56\n",
       "95.146.245.203        84\n",
       "96.128.153.246        90\n",
       "97.138.146.97         22\n",
       "\n",
       "[200 rows x 1 columns]"
      ]
     },
     "execution_count": 93,
     "metadata": {},
     "output_type": "execute_result"
    }
   ],
   "source": [
    "queries.groupby(['ip_address'])['cell_id'].agg(pd.Series.mode).to_frame()"
   ]
  },
  {
   "cell_type": "markdown",
   "id": "whole-utility",
   "metadata": {},
   "source": [
    "#### Find most frequent during day vs night (work vs home)"
   ]
  },
  {
   "cell_type": "code",
   "execution_count": 99,
   "id": "based-capture",
   "metadata": {},
   "outputs": [
    {
     "data": {
      "text/html": [
       "<div>\n",
       "<style scoped>\n",
       "    .dataframe tbody tr th:only-of-type {\n",
       "        vertical-align: middle;\n",
       "    }\n",
       "\n",
       "    .dataframe tbody tr th {\n",
       "        vertical-align: top;\n",
       "    }\n",
       "\n",
       "    .dataframe thead th {\n",
       "        text-align: right;\n",
       "    }\n",
       "</style>\n",
       "<table border=\"1\" class=\"dataframe\">\n",
       "  <thead>\n",
       "    <tr style=\"text-align: right;\">\n",
       "      <th></th>\n",
       "      <th>cell_id</th>\n",
       "    </tr>\n",
       "    <tr>\n",
       "      <th>ip_address</th>\n",
       "      <th></th>\n",
       "    </tr>\n",
       "  </thead>\n",
       "  <tbody>\n",
       "    <tr>\n",
       "      <th>0.98.248.97</th>\n",
       "      <td>18</td>\n",
       "    </tr>\n",
       "    <tr>\n",
       "      <th>10.229.150.53</th>\n",
       "      <td>85</td>\n",
       "    </tr>\n",
       "    <tr>\n",
       "      <th>100.255.65.73</th>\n",
       "      <td>76</td>\n",
       "    </tr>\n",
       "    <tr>\n",
       "      <th>101.193.212.180</th>\n",
       "      <td>58</td>\n",
       "    </tr>\n",
       "    <tr>\n",
       "      <th>103.107.27.105</th>\n",
       "      <td>58</td>\n",
       "    </tr>\n",
       "    <tr>\n",
       "      <th>...</th>\n",
       "      <td>...</td>\n",
       "    </tr>\n",
       "    <tr>\n",
       "      <th>94.220.204.193</th>\n",
       "      <td>82</td>\n",
       "    </tr>\n",
       "    <tr>\n",
       "      <th>94.223.68.192</th>\n",
       "      <td>56</td>\n",
       "    </tr>\n",
       "    <tr>\n",
       "      <th>95.146.245.203</th>\n",
       "      <td>84</td>\n",
       "    </tr>\n",
       "    <tr>\n",
       "      <th>96.128.153.246</th>\n",
       "      <td>90</td>\n",
       "    </tr>\n",
       "    <tr>\n",
       "      <th>97.138.146.97</th>\n",
       "      <td>22</td>\n",
       "    </tr>\n",
       "  </tbody>\n",
       "</table>\n",
       "<p>200 rows × 1 columns</p>\n",
       "</div>"
      ],
      "text/plain": [
       "                 cell_id\n",
       "ip_address              \n",
       "0.98.248.97           18\n",
       "10.229.150.53         85\n",
       "100.255.65.73         76\n",
       "101.193.212.180       58\n",
       "103.107.27.105        58\n",
       "...                  ...\n",
       "94.220.204.193        82\n",
       "94.223.68.192         56\n",
       "95.146.245.203        84\n",
       "96.128.153.246        90\n",
       "97.138.146.97         22\n",
       "\n",
       "[200 rows x 1 columns]"
      ]
     },
     "execution_count": 99,
     "metadata": {},
     "output_type": "execute_result"
    }
   ],
   "source": [
    "queries.groupby(['ip_address'])['cell_id'].agg(lambda x:x.value_counts().index[0]).to_frame()"
   ]
  },
  {
   "cell_type": "code",
   "execution_count": 110,
   "id": "adolescent-leather",
   "metadata": {},
   "outputs": [
    {
     "data": {
      "text/html": [
       "<div>\n",
       "<style scoped>\n",
       "    .dataframe tbody tr th:only-of-type {\n",
       "        vertical-align: middle;\n",
       "    }\n",
       "\n",
       "    .dataframe tbody tr th {\n",
       "        vertical-align: top;\n",
       "    }\n",
       "\n",
       "    .dataframe thead th {\n",
       "        text-align: right;\n",
       "    }\n",
       "</style>\n",
       "<table border=\"1\" class=\"dataframe\">\n",
       "  <thead>\n",
       "    <tr style=\"text-align: right;\">\n",
       "      <th></th>\n",
       "      <th>cell_id</th>\n",
       "    </tr>\n",
       "    <tr>\n",
       "      <th>ip_address</th>\n",
       "      <th></th>\n",
       "    </tr>\n",
       "  </thead>\n",
       "  <tbody>\n",
       "    <tr>\n",
       "      <th>0.98.248.97</th>\n",
       "      <td>63</td>\n",
       "    </tr>\n",
       "    <tr>\n",
       "      <th>10.229.150.53</th>\n",
       "      <td>63</td>\n",
       "    </tr>\n",
       "    <tr>\n",
       "      <th>100.255.65.73</th>\n",
       "      <td>35</td>\n",
       "    </tr>\n",
       "    <tr>\n",
       "      <th>101.193.212.180</th>\n",
       "      <td>63</td>\n",
       "    </tr>\n",
       "    <tr>\n",
       "      <th>103.107.27.105</th>\n",
       "      <td>63</td>\n",
       "    </tr>\n",
       "    <tr>\n",
       "      <th>...</th>\n",
       "      <td>...</td>\n",
       "    </tr>\n",
       "    <tr>\n",
       "      <th>94.220.204.193</th>\n",
       "      <td>98</td>\n",
       "    </tr>\n",
       "    <tr>\n",
       "      <th>94.223.68.192</th>\n",
       "      <td>35</td>\n",
       "    </tr>\n",
       "    <tr>\n",
       "      <th>95.146.245.203</th>\n",
       "      <td>34</td>\n",
       "    </tr>\n",
       "    <tr>\n",
       "      <th>96.128.153.246</th>\n",
       "      <td>36</td>\n",
       "    </tr>\n",
       "    <tr>\n",
       "      <th>97.138.146.97</th>\n",
       "      <td>53</td>\n",
       "    </tr>\n",
       "  </tbody>\n",
       "</table>\n",
       "<p>200 rows × 1 columns</p>\n",
       "</div>"
      ],
      "text/plain": [
       "                 cell_id\n",
       "ip_address              \n",
       "0.98.248.97           63\n",
       "10.229.150.53         63\n",
       "100.255.65.73         35\n",
       "101.193.212.180       63\n",
       "103.107.27.105        63\n",
       "...                  ...\n",
       "94.220.204.193        98\n",
       "94.223.68.192         35\n",
       "95.146.245.203        34\n",
       "96.128.153.246        36\n",
       "97.138.146.97         53\n",
       "\n",
       "[200 rows x 1 columns]"
      ]
     },
     "execution_count": 110,
     "metadata": {},
     "output_type": "execute_result"
    }
   ],
   "source": [
    "queries[(queries.timestamp > 9) & (queries.timestamp < 17)].groupby(['ip_address'])['cell_id'].agg(lambda x:x.value_counts().index[0]).to_frame()"
   ]
  },
  {
   "cell_type": "code",
   "execution_count": 111,
   "id": "combined-notice",
   "metadata": {},
   "outputs": [
    {
     "data": {
      "text/html": [
       "<div>\n",
       "<style scoped>\n",
       "    .dataframe tbody tr th:only-of-type {\n",
       "        vertical-align: middle;\n",
       "    }\n",
       "\n",
       "    .dataframe tbody tr th {\n",
       "        vertical-align: top;\n",
       "    }\n",
       "\n",
       "    .dataframe thead th {\n",
       "        text-align: right;\n",
       "    }\n",
       "</style>\n",
       "<table border=\"1\" class=\"dataframe\">\n",
       "  <thead>\n",
       "    <tr style=\"text-align: right;\">\n",
       "      <th></th>\n",
       "      <th>cell_id</th>\n",
       "    </tr>\n",
       "    <tr>\n",
       "      <th>ip_address</th>\n",
       "      <th></th>\n",
       "    </tr>\n",
       "  </thead>\n",
       "  <tbody>\n",
       "    <tr>\n",
       "      <th>0.98.248.97</th>\n",
       "      <td>18</td>\n",
       "    </tr>\n",
       "    <tr>\n",
       "      <th>10.229.150.53</th>\n",
       "      <td>85</td>\n",
       "    </tr>\n",
       "    <tr>\n",
       "      <th>100.255.65.73</th>\n",
       "      <td>76</td>\n",
       "    </tr>\n",
       "    <tr>\n",
       "      <th>101.193.212.180</th>\n",
       "      <td>58</td>\n",
       "    </tr>\n",
       "    <tr>\n",
       "      <th>103.107.27.105</th>\n",
       "      <td>58</td>\n",
       "    </tr>\n",
       "    <tr>\n",
       "      <th>...</th>\n",
       "      <td>...</td>\n",
       "    </tr>\n",
       "    <tr>\n",
       "      <th>94.220.204.193</th>\n",
       "      <td>82</td>\n",
       "    </tr>\n",
       "    <tr>\n",
       "      <th>94.223.68.192</th>\n",
       "      <td>56</td>\n",
       "    </tr>\n",
       "    <tr>\n",
       "      <th>95.146.245.203</th>\n",
       "      <td>84</td>\n",
       "    </tr>\n",
       "    <tr>\n",
       "      <th>96.128.153.246</th>\n",
       "      <td>90</td>\n",
       "    </tr>\n",
       "    <tr>\n",
       "      <th>97.138.146.97</th>\n",
       "      <td>22</td>\n",
       "    </tr>\n",
       "  </tbody>\n",
       "</table>\n",
       "<p>200 rows × 1 columns</p>\n",
       "</div>"
      ],
      "text/plain": [
       "                 cell_id\n",
       "ip_address              \n",
       "0.98.248.97           18\n",
       "10.229.150.53         85\n",
       "100.255.65.73         76\n",
       "101.193.212.180       58\n",
       "103.107.27.105        58\n",
       "...                  ...\n",
       "94.220.204.193        82\n",
       "94.223.68.192         56\n",
       "95.146.245.203        84\n",
       "96.128.153.246        90\n",
       "97.138.146.97         22\n",
       "\n",
       "[200 rows x 1 columns]"
      ]
     },
     "execution_count": 111,
     "metadata": {},
     "output_type": "execute_result"
    }
   ],
   "source": [
    "queries[(queries.timestamp < 9) | (queries.timestamp > 17)].groupby(['ip_address'])['cell_id'].agg(lambda x:x.value_counts().index[0]).to_frame()"
   ]
  },
  {
   "cell_type": "code",
   "execution_count": null,
   "id": "amended-flower",
   "metadata": {},
   "outputs": [],
   "source": []
  }
 ],
 "metadata": {
  "kernelspec": {
   "display_name": "Python 3",
   "language": "python",
   "name": "python3"
  },
  "language_info": {
   "codemirror_mode": {
    "name": "ipython",
    "version": 3
   },
   "file_extension": ".py",
   "mimetype": "text/x-python",
   "name": "python",
   "nbconvert_exporter": "python",
   "pygments_lexer": "ipython3",
   "version": "3.7.10"
  },
  "toc": {
   "base_numbering": 1,
   "nav_menu": {},
   "number_sections": true,
   "sideBar": true,
   "skip_h1_title": false,
   "title_cell": "Table of Contents",
   "title_sidebar": "Contents",
   "toc_cell": false,
   "toc_position": {},
   "toc_section_display": true,
   "toc_window_display": false
  }
 },
 "nbformat": 4,
 "nbformat_minor": 5
}
